{
 "cells": [
  {
   "cell_type": "code",
   "execution_count": 5,
   "metadata": {},
   "outputs": [],
   "source": [
    "from tracemalloc import Snapshot\n",
    "import matplotlib.pyplot as plt\n",
    "import seaborn as sns\n",
    "import pandas as pd\n",
    "import numpy as np\n",
    "from scipy import stats\n",
    "import ast \n",
    "from sklearn.feature_extraction.text import TfidfVectorizer, CountVectorizer\n",
    "from sklearn.metrics.pairwise import linear_kernel, cosine_similarity"
   ]
  },
  {
   "cell_type": "markdown",
   "metadata": {},
   "source": [
    "# Loading data from files"
   ]
  },
  {
   "cell_type": "code",
   "execution_count": 6,
   "metadata": {},
   "outputs": [
    {
     "name": "stderr",
     "output_type": "stream",
     "text": [
      "C:\\Users\\btr\\AppData\\Local\\Temp\\ipykernel_10568\\60438194.py:3: FutureWarning: The error_bad_lines argument has been deprecated and will be removed in a future version. Use on_bad_lines in the future.\n",
      "\n",
      "\n",
      "  jobs = pd.read_csv('jrs_data/jobs.tsv', delimiter='\\t',encoding='utf-8', error_bad_lines=False)\n",
      "Skipping line 122433: expected 11 fields, saw 12\n",
      "\n",
      "Skipping line 602576: expected 11 fields, saw 12\n",
      "\n",
      "Skipping line 990950: expected 11 fields, saw 12\n",
      "\n",
      "C:\\Users\\btr\\AppData\\Local\\Temp\\ipykernel_10568\\60438194.py:3: DtypeWarning: Columns (8) have mixed types. Specify dtype option on import or set low_memory=False.\n",
      "  jobs = pd.read_csv('jrs_data/jobs.tsv', delimiter='\\t',encoding='utf-8', error_bad_lines=False)\n"
     ]
    }
   ],
   "source": [
    "apps = pd.read_csv('jrs_data/apps.tsv', delimiter='\\t',encoding='utf-8')\n",
    "user_history = pd.read_csv('jrs_data/user_history.tsv', delimiter='\\t',encoding='utf-8')\n",
    "jobs = pd.read_csv('jrs_data/jobs.tsv', delimiter='\\t',encoding='utf-8', error_bad_lines=False)\n",
    "users = pd.read_csv('jrs_data/users.tsv' ,delimiter='\\t',encoding='utf-8')\n",
    "test_users = pd.read_csv('jrs_data/test_users.tsv', delimiter='\\t',encoding='utf-8')"
   ]
  },
  {
   "cell_type": "code",
   "execution_count": 3,
   "metadata": {},
   "outputs": [
    {
     "data": {
      "text/html": [
       "<div>\n",
       "<style scoped>\n",
       "    .dataframe tbody tr th:only-of-type {\n",
       "        vertical-align: middle;\n",
       "    }\n",
       "\n",
       "    .dataframe tbody tr th {\n",
       "        vertical-align: top;\n",
       "    }\n",
       "\n",
       "    .dataframe thead th {\n",
       "        text-align: right;\n",
       "    }\n",
       "</style>\n",
       "<table border=\"1\" class=\"dataframe\">\n",
       "  <thead>\n",
       "    <tr style=\"text-align: right;\">\n",
       "      <th></th>\n",
       "      <th>UserID</th>\n",
       "      <th>WindowID</th>\n",
       "      <th>Split</th>\n",
       "      <th>ApplicationDate</th>\n",
       "      <th>JobID</th>\n",
       "    </tr>\n",
       "  </thead>\n",
       "  <tbody>\n",
       "    <tr>\n",
       "      <th>0</th>\n",
       "      <td>47</td>\n",
       "      <td>1</td>\n",
       "      <td>Train</td>\n",
       "      <td>2012-04-04 15:56:23.537</td>\n",
       "      <td>169528</td>\n",
       "    </tr>\n",
       "    <tr>\n",
       "      <th>1</th>\n",
       "      <td>47</td>\n",
       "      <td>1</td>\n",
       "      <td>Train</td>\n",
       "      <td>2012-04-06 01:03:00.003</td>\n",
       "      <td>284009</td>\n",
       "    </tr>\n",
       "    <tr>\n",
       "      <th>2</th>\n",
       "      <td>47</td>\n",
       "      <td>1</td>\n",
       "      <td>Train</td>\n",
       "      <td>2012-04-05 02:40:27.753</td>\n",
       "      <td>2121</td>\n",
       "    </tr>\n",
       "    <tr>\n",
       "      <th>3</th>\n",
       "      <td>47</td>\n",
       "      <td>1</td>\n",
       "      <td>Train</td>\n",
       "      <td>2012-04-05 02:37:02.673</td>\n",
       "      <td>848187</td>\n",
       "    </tr>\n",
       "    <tr>\n",
       "      <th>4</th>\n",
       "      <td>47</td>\n",
       "      <td>1</td>\n",
       "      <td>Train</td>\n",
       "      <td>2012-04-05 22:44:06.653</td>\n",
       "      <td>733748</td>\n",
       "    </tr>\n",
       "  </tbody>\n",
       "</table>\n",
       "</div>"
      ],
      "text/plain": [
       "   UserID  WindowID  Split          ApplicationDate   JobID\n",
       "0      47         1  Train  2012-04-04 15:56:23.537  169528\n",
       "1      47         1  Train  2012-04-06 01:03:00.003  284009\n",
       "2      47         1  Train  2012-04-05 02:40:27.753    2121\n",
       "3      47         1  Train  2012-04-05 02:37:02.673  848187\n",
       "4      47         1  Train  2012-04-05 22:44:06.653  733748"
      ]
     },
     "execution_count": 3,
     "metadata": {},
     "output_type": "execute_result"
    }
   ],
   "source": [
    "apps.head()"
   ]
  },
  {
   "cell_type": "code",
   "execution_count": 4,
   "metadata": {},
   "outputs": [
    {
     "data": {
      "text/html": [
       "<div>\n",
       "<style scoped>\n",
       "    .dataframe tbody tr th:only-of-type {\n",
       "        vertical-align: middle;\n",
       "    }\n",
       "\n",
       "    .dataframe tbody tr th {\n",
       "        vertical-align: top;\n",
       "    }\n",
       "\n",
       "    .dataframe thead th {\n",
       "        text-align: right;\n",
       "    }\n",
       "</style>\n",
       "<table border=\"1\" class=\"dataframe\">\n",
       "  <thead>\n",
       "    <tr style=\"text-align: right;\">\n",
       "      <th></th>\n",
       "      <th>UserID</th>\n",
       "      <th>WindowID</th>\n",
       "      <th>Split</th>\n",
       "      <th>Sequence</th>\n",
       "      <th>JobTitle</th>\n",
       "    </tr>\n",
       "  </thead>\n",
       "  <tbody>\n",
       "    <tr>\n",
       "      <th>0</th>\n",
       "      <td>47</td>\n",
       "      <td>1</td>\n",
       "      <td>Train</td>\n",
       "      <td>1</td>\n",
       "      <td>National Space Communication Programs-Special ...</td>\n",
       "    </tr>\n",
       "    <tr>\n",
       "      <th>1</th>\n",
       "      <td>47</td>\n",
       "      <td>1</td>\n",
       "      <td>Train</td>\n",
       "      <td>2</td>\n",
       "      <td>Detention Officer</td>\n",
       "    </tr>\n",
       "    <tr>\n",
       "      <th>2</th>\n",
       "      <td>47</td>\n",
       "      <td>1</td>\n",
       "      <td>Train</td>\n",
       "      <td>3</td>\n",
       "      <td>Passenger Screener, TSA</td>\n",
       "    </tr>\n",
       "    <tr>\n",
       "      <th>3</th>\n",
       "      <td>72</td>\n",
       "      <td>1</td>\n",
       "      <td>Train</td>\n",
       "      <td>1</td>\n",
       "      <td>Lecturer, Department of Anthropology</td>\n",
       "    </tr>\n",
       "    <tr>\n",
       "      <th>4</th>\n",
       "      <td>72</td>\n",
       "      <td>1</td>\n",
       "      <td>Train</td>\n",
       "      <td>2</td>\n",
       "      <td>Student Assistant</td>\n",
       "    </tr>\n",
       "  </tbody>\n",
       "</table>\n",
       "</div>"
      ],
      "text/plain": [
       "   UserID  WindowID  Split  Sequence  \\\n",
       "0      47         1  Train         1   \n",
       "1      47         1  Train         2   \n",
       "2      47         1  Train         3   \n",
       "3      72         1  Train         1   \n",
       "4      72         1  Train         2   \n",
       "\n",
       "                                            JobTitle  \n",
       "0  National Space Communication Programs-Special ...  \n",
       "1                                  Detention Officer  \n",
       "2                            Passenger Screener, TSA  \n",
       "3               Lecturer, Department of Anthropology  \n",
       "4                                  Student Assistant  "
      ]
     },
     "execution_count": 4,
     "metadata": {},
     "output_type": "execute_result"
    }
   ],
   "source": [
    "user_history.head()"
   ]
  },
  {
   "cell_type": "code",
   "execution_count": 5,
   "metadata": {},
   "outputs": [
    {
     "data": {
      "text/html": [
       "<div>\n",
       "<style scoped>\n",
       "    .dataframe tbody tr th:only-of-type {\n",
       "        vertical-align: middle;\n",
       "    }\n",
       "\n",
       "    .dataframe tbody tr th {\n",
       "        vertical-align: top;\n",
       "    }\n",
       "\n",
       "    .dataframe thead th {\n",
       "        text-align: right;\n",
       "    }\n",
       "</style>\n",
       "<table border=\"1\" class=\"dataframe\">\n",
       "  <thead>\n",
       "    <tr style=\"text-align: right;\">\n",
       "      <th></th>\n",
       "      <th>JobID</th>\n",
       "      <th>WindowID</th>\n",
       "      <th>Title</th>\n",
       "      <th>Description</th>\n",
       "      <th>Requirements</th>\n",
       "      <th>City</th>\n",
       "      <th>State</th>\n",
       "      <th>Country</th>\n",
       "      <th>Zip5</th>\n",
       "      <th>StartDate</th>\n",
       "      <th>EndDate</th>\n",
       "    </tr>\n",
       "  </thead>\n",
       "  <tbody>\n",
       "    <tr>\n",
       "      <th>0</th>\n",
       "      <td>1</td>\n",
       "      <td>1</td>\n",
       "      <td>Security Engineer/Technical Lead</td>\n",
       "      <td>&lt;p&gt;Security Clearance Required:&amp;nbsp; Top Secr...</td>\n",
       "      <td>&lt;p&gt;SKILL SET&lt;/p&gt;\\r&lt;p&gt;&amp;nbsp;&lt;/p&gt;\\r&lt;p&gt;Network Se...</td>\n",
       "      <td>Washington</td>\n",
       "      <td>DC</td>\n",
       "      <td>US</td>\n",
       "      <td>20531</td>\n",
       "      <td>2012-03-07 13:17:01.643</td>\n",
       "      <td>2012-04-06 23:59:59</td>\n",
       "    </tr>\n",
       "    <tr>\n",
       "      <th>1</th>\n",
       "      <td>4</td>\n",
       "      <td>1</td>\n",
       "      <td>SAP Business Analyst / WM</td>\n",
       "      <td>&lt;strong&gt;NO Corp. to Corp resumes&amp;nbsp;are bein...</td>\n",
       "      <td>&lt;p&gt;&lt;b&gt;WHAT YOU NEED: &lt;/b&gt;&lt;/p&gt;\\r&lt;p&gt;Four year co...</td>\n",
       "      <td>Charlotte</td>\n",
       "      <td>NC</td>\n",
       "      <td>US</td>\n",
       "      <td>28217</td>\n",
       "      <td>2012-03-21 02:03:44.137</td>\n",
       "      <td>2012-04-20 23:59:59</td>\n",
       "    </tr>\n",
       "    <tr>\n",
       "      <th>2</th>\n",
       "      <td>7</td>\n",
       "      <td>1</td>\n",
       "      <td>P/T HUMAN RESOURCES ASSISTANT</td>\n",
       "      <td>&lt;b&gt;    &lt;b&gt; P/T HUMAN RESOURCES ASSISTANT&lt;/b&gt; &lt;...</td>\n",
       "      <td>Please refer to the Job Description to view th...</td>\n",
       "      <td>Winter Park</td>\n",
       "      <td>FL</td>\n",
       "      <td>US</td>\n",
       "      <td>32792</td>\n",
       "      <td>2012-03-02 16:36:55.447</td>\n",
       "      <td>2012-04-01 23:59:59</td>\n",
       "    </tr>\n",
       "    <tr>\n",
       "      <th>3</th>\n",
       "      <td>8</td>\n",
       "      <td>1</td>\n",
       "      <td>Route Delivery Drivers</td>\n",
       "      <td>CITY BEVERAGES Come to work for the best in th...</td>\n",
       "      <td>Please refer to the Job Description to view th...</td>\n",
       "      <td>Orlando</td>\n",
       "      <td>FL</td>\n",
       "      <td>US</td>\n",
       "      <td>NaN</td>\n",
       "      <td>2012-03-03 09:01:10.077</td>\n",
       "      <td>2012-04-02 23:59:59</td>\n",
       "    </tr>\n",
       "    <tr>\n",
       "      <th>4</th>\n",
       "      <td>9</td>\n",
       "      <td>1</td>\n",
       "      <td>Housekeeping</td>\n",
       "      <td>I make  sure every part of their day is magica...</td>\n",
       "      <td>Please refer to the Job Description to view th...</td>\n",
       "      <td>Orlando</td>\n",
       "      <td>FL</td>\n",
       "      <td>US</td>\n",
       "      <td>NaN</td>\n",
       "      <td>2012-03-03 09:01:11.88</td>\n",
       "      <td>2012-04-02 23:59:59</td>\n",
       "    </tr>\n",
       "  </tbody>\n",
       "</table>\n",
       "</div>"
      ],
      "text/plain": [
       "   JobID  WindowID                             Title  \\\n",
       "0      1         1  Security Engineer/Technical Lead   \n",
       "1      4         1         SAP Business Analyst / WM   \n",
       "2      7         1     P/T HUMAN RESOURCES ASSISTANT   \n",
       "3      8         1            Route Delivery Drivers   \n",
       "4      9         1                      Housekeeping   \n",
       "\n",
       "                                         Description  \\\n",
       "0  <p>Security Clearance Required:&nbsp; Top Secr...   \n",
       "1  <strong>NO Corp. to Corp resumes&nbsp;are bein...   \n",
       "2  <b>    <b> P/T HUMAN RESOURCES ASSISTANT</b> <...   \n",
       "3  CITY BEVERAGES Come to work for the best in th...   \n",
       "4  I make  sure every part of their day is magica...   \n",
       "\n",
       "                                        Requirements         City State  \\\n",
       "0  <p>SKILL SET</p>\\r<p>&nbsp;</p>\\r<p>Network Se...   Washington    DC   \n",
       "1  <p><b>WHAT YOU NEED: </b></p>\\r<p>Four year co...    Charlotte    NC   \n",
       "2  Please refer to the Job Description to view th...  Winter Park    FL   \n",
       "3  Please refer to the Job Description to view th...      Orlando    FL   \n",
       "4  Please refer to the Job Description to view th...      Orlando    FL   \n",
       "\n",
       "  Country   Zip5                StartDate              EndDate  \n",
       "0      US  20531  2012-03-07 13:17:01.643  2012-04-06 23:59:59  \n",
       "1      US  28217  2012-03-21 02:03:44.137  2012-04-20 23:59:59  \n",
       "2      US  32792  2012-03-02 16:36:55.447  2012-04-01 23:59:59  \n",
       "3      US    NaN  2012-03-03 09:01:10.077  2012-04-02 23:59:59  \n",
       "4      US    NaN   2012-03-03 09:01:11.88  2012-04-02 23:59:59  "
      ]
     },
     "execution_count": 5,
     "metadata": {},
     "output_type": "execute_result"
    }
   ],
   "source": [
    "jobs.head()"
   ]
  },
  {
   "cell_type": "markdown",
   "metadata": {},
   "source": [
    "# Cleaning the text columns"
   ]
  },
  {
   "cell_type": "code",
   "execution_count": 133,
   "metadata": {},
   "outputs": [
    {
     "name": "stderr",
     "output_type": "stream",
     "text": [
      "C:\\Users\\btr\\AppData\\Local\\Temp\\ipykernel_30896\\2104921561.py:5: FutureWarning: The default value of regex will change from True to False in a future version.\n",
      "  jobs['DescCleaned'] = jobs['DescCleaned'].str.replace(removePattern, \"\")\n",
      "C:\\Users\\btr\\AppData\\Local\\Temp\\ipykernel_30896\\2104921561.py:6: FutureWarning: The default value of regex will change from True to False in a future version.\n",
      "  jobs['DescCleaned'] = jobs['DescCleaned'].str.replace(addSpacePattern, \" \")\n",
      "C:\\Users\\btr\\AppData\\Local\\Temp\\ipykernel_30896\\2104921561.py:7: FutureWarning: The default value of regex will change from True to False in a future version.\n",
      "  jobs['DescCleaned'] = jobs['DescCleaned'].str.replace(removeExtraSpaces, \" \")\n",
      "C:\\Users\\btr\\AppData\\Local\\Temp\\ipykernel_30896\\2104921561.py:10: FutureWarning: The default value of regex will change from True to False in a future version.\n",
      "  jobs['ReqCleaned'] = jobs['ReqCleaned'].str.replace(removePattern, \"\")\n",
      "C:\\Users\\btr\\AppData\\Local\\Temp\\ipykernel_30896\\2104921561.py:11: FutureWarning: The default value of regex will change from True to False in a future version.\n",
      "  jobs['ReqCleaned'] = jobs['ReqCleaned'].str.replace(addSpacePattern, \" \")\n",
      "C:\\Users\\btr\\AppData\\Local\\Temp\\ipykernel_30896\\2104921561.py:12: FutureWarning: The default value of regex will change from True to False in a future version.\n",
      "  jobs['ReqCleaned'] = jobs['ReqCleaned'].str.replace(removeExtraSpaces, \" \")\n"
     ]
    }
   ],
   "source": [
    "removePattern = r'(<(.*?)>)|(&\\w+)'\n",
    "addSpacePattern = r'([;:])|(\\\\r)|(\\\\n)'\n",
    "removeExtraSpaces = r'(\\s\\s+?)(?=\\S)'\n",
    "jobs['DescCleaned'] = jobs['Description'].str.lower()\n",
    "jobs['DescCleaned'] = jobs['DescCleaned'].str.replace(removePattern, \"\")\n",
    "jobs['DescCleaned'] = jobs['DescCleaned'].str.replace(addSpacePattern, \" \")\n",
    "jobs['DescCleaned'] = jobs['DescCleaned'].str.replace(removeExtraSpaces, \" \")\n",
    "# Same for Requirements\n",
    "jobs['ReqCleaned'] = jobs['Requirements'].str.lower()\n",
    "jobs['ReqCleaned'] = jobs['ReqCleaned'].str.replace(removePattern, \"\")\n",
    "jobs['ReqCleaned'] = jobs['ReqCleaned'].str.replace(addSpacePattern, \" \")\n",
    "jobs['ReqCleaned'] = jobs['ReqCleaned'].str.replace(removeExtraSpaces, \" \")"
   ]
  },
  {
   "cell_type": "code",
   "execution_count": 134,
   "metadata": {},
   "outputs": [
    {
     "data": {
      "text/html": [
       "<div>\n",
       "<style scoped>\n",
       "    .dataframe tbody tr th:only-of-type {\n",
       "        vertical-align: middle;\n",
       "    }\n",
       "\n",
       "    .dataframe tbody tr th {\n",
       "        vertical-align: top;\n",
       "    }\n",
       "\n",
       "    .dataframe thead th {\n",
       "        text-align: right;\n",
       "    }\n",
       "</style>\n",
       "<table border=\"1\" class=\"dataframe\">\n",
       "  <thead>\n",
       "    <tr style=\"text-align: right;\">\n",
       "      <th></th>\n",
       "      <th>JobID</th>\n",
       "      <th>WindowID</th>\n",
       "      <th>Title</th>\n",
       "      <th>Description</th>\n",
       "      <th>Requirements</th>\n",
       "      <th>City</th>\n",
       "      <th>State</th>\n",
       "      <th>Country</th>\n",
       "      <th>Zip5</th>\n",
       "      <th>StartDate</th>\n",
       "      <th>EndDate</th>\n",
       "      <th>DescCleaned</th>\n",
       "      <th>ReqCleaned</th>\n",
       "    </tr>\n",
       "  </thead>\n",
       "  <tbody>\n",
       "    <tr>\n",
       "      <th>0</th>\n",
       "      <td>1</td>\n",
       "      <td>1</td>\n",
       "      <td>Security Engineer/Technical Lead</td>\n",
       "      <td>&lt;p&gt;Security Clearance Required:&amp;nbsp; Top Secr...</td>\n",
       "      <td>&lt;p&gt;SKILL SET&lt;/p&gt;\\r&lt;p&gt;&amp;nbsp;&lt;/p&gt;\\r&lt;p&gt;Network Se...</td>\n",
       "      <td>Washington</td>\n",
       "      <td>DC</td>\n",
       "      <td>US</td>\n",
       "      <td>20531</td>\n",
       "      <td>2012-03-07 13:17:01.643</td>\n",
       "      <td>2012-04-06 23:59:59</td>\n",
       "      <td>security clearance required top secret job num...</td>\n",
       "      <td>skill set network security tools webdefend web...</td>\n",
       "    </tr>\n",
       "    <tr>\n",
       "      <th>1</th>\n",
       "      <td>4</td>\n",
       "      <td>1</td>\n",
       "      <td>SAP Business Analyst / WM</td>\n",
       "      <td>&lt;strong&gt;NO Corp. to Corp resumes&amp;nbsp;are bein...</td>\n",
       "      <td>&lt;p&gt;&lt;b&gt;WHAT YOU NEED: &lt;/b&gt;&lt;/p&gt;\\r&lt;p&gt;Four year co...</td>\n",
       "      <td>Charlotte</td>\n",
       "      <td>NC</td>\n",
       "      <td>US</td>\n",
       "      <td>28217</td>\n",
       "      <td>2012-03-21 02:03:44.137</td>\n",
       "      <td>2012-04-20 23:59:59</td>\n",
       "      <td>no corp. to corp resumes are being considered ...</td>\n",
       "      <td>what you need four year college degree minimum...</td>\n",
       "    </tr>\n",
       "    <tr>\n",
       "      <th>2</th>\n",
       "      <td>7</td>\n",
       "      <td>1</td>\n",
       "      <td>P/T HUMAN RESOURCES ASSISTANT</td>\n",
       "      <td>&lt;b&gt;    &lt;b&gt; P/T HUMAN RESOURCES ASSISTANT&lt;/b&gt; &lt;...</td>\n",
       "      <td>Please refer to the Job Description to view th...</td>\n",
       "      <td>Winter Park</td>\n",
       "      <td>FL</td>\n",
       "      <td>US</td>\n",
       "      <td>32792</td>\n",
       "      <td>2012-03-02 16:36:55.447</td>\n",
       "      <td>2012-04-01 23:59:59</td>\n",
       "      <td>p/t human resources assistant —— 1-2 years ex...</td>\n",
       "      <td>please refer to the job description to view th...</td>\n",
       "    </tr>\n",
       "    <tr>\n",
       "      <th>3</th>\n",
       "      <td>8</td>\n",
       "      <td>1</td>\n",
       "      <td>Route Delivery Drivers</td>\n",
       "      <td>CITY BEVERAGES Come to work for the best in th...</td>\n",
       "      <td>Please refer to the Job Description to view th...</td>\n",
       "      <td>Orlando</td>\n",
       "      <td>FL</td>\n",
       "      <td>US</td>\n",
       "      <td>NaN</td>\n",
       "      <td>2012-03-03 09:01:10.077</td>\n",
       "      <td>2012-04-02 23:59:59</td>\n",
       "      <td>city beverages come to work for the best in th...</td>\n",
       "      <td>please refer to the job description to view th...</td>\n",
       "    </tr>\n",
       "    <tr>\n",
       "      <th>4</th>\n",
       "      <td>9</td>\n",
       "      <td>1</td>\n",
       "      <td>Housekeeping</td>\n",
       "      <td>I make  sure every part of their day is magica...</td>\n",
       "      <td>Please refer to the Job Description to view th...</td>\n",
       "      <td>Orlando</td>\n",
       "      <td>FL</td>\n",
       "      <td>US</td>\n",
       "      <td>NaN</td>\n",
       "      <td>2012-03-03 09:01:11.88</td>\n",
       "      <td>2012-04-02 23:59:59</td>\n",
       "      <td>i make sure every part of their day is magical...</td>\n",
       "      <td>please refer to the job description to view th...</td>\n",
       "    </tr>\n",
       "  </tbody>\n",
       "</table>\n",
       "</div>"
      ],
      "text/plain": [
       "   JobID  WindowID                             Title  \\\n",
       "0      1         1  Security Engineer/Technical Lead   \n",
       "1      4         1         SAP Business Analyst / WM   \n",
       "2      7         1     P/T HUMAN RESOURCES ASSISTANT   \n",
       "3      8         1            Route Delivery Drivers   \n",
       "4      9         1                      Housekeeping   \n",
       "\n",
       "                                         Description  \\\n",
       "0  <p>Security Clearance Required:&nbsp; Top Secr...   \n",
       "1  <strong>NO Corp. to Corp resumes&nbsp;are bein...   \n",
       "2  <b>    <b> P/T HUMAN RESOURCES ASSISTANT</b> <...   \n",
       "3  CITY BEVERAGES Come to work for the best in th...   \n",
       "4  I make  sure every part of their day is magica...   \n",
       "\n",
       "                                        Requirements         City State  \\\n",
       "0  <p>SKILL SET</p>\\r<p>&nbsp;</p>\\r<p>Network Se...   Washington    DC   \n",
       "1  <p><b>WHAT YOU NEED: </b></p>\\r<p>Four year co...    Charlotte    NC   \n",
       "2  Please refer to the Job Description to view th...  Winter Park    FL   \n",
       "3  Please refer to the Job Description to view th...      Orlando    FL   \n",
       "4  Please refer to the Job Description to view th...      Orlando    FL   \n",
       "\n",
       "  Country   Zip5                StartDate              EndDate  \\\n",
       "0      US  20531  2012-03-07 13:17:01.643  2012-04-06 23:59:59   \n",
       "1      US  28217  2012-03-21 02:03:44.137  2012-04-20 23:59:59   \n",
       "2      US  32792  2012-03-02 16:36:55.447  2012-04-01 23:59:59   \n",
       "3      US    NaN  2012-03-03 09:01:10.077  2012-04-02 23:59:59   \n",
       "4      US    NaN   2012-03-03 09:01:11.88  2012-04-02 23:59:59   \n",
       "\n",
       "                                         DescCleaned  \\\n",
       "0  security clearance required top secret job num...   \n",
       "1  no corp. to corp resumes are being considered ...   \n",
       "2   p/t human resources assistant —— 1-2 years ex...   \n",
       "3  city beverages come to work for the best in th...   \n",
       "4  i make sure every part of their day is magical...   \n",
       "\n",
       "                                          ReqCleaned  \n",
       "0  skill set network security tools webdefend web...  \n",
       "1  what you need four year college degree minimum...  \n",
       "2  please refer to the job description to view th...  \n",
       "3  please refer to the job description to view th...  \n",
       "4  please refer to the job description to view th...  "
      ]
     },
     "execution_count": 134,
     "metadata": {},
     "output_type": "execute_result"
    }
   ],
   "source": [
    "jobs.head()"
   ]
  },
  {
   "cell_type": "code",
   "execution_count": 6,
   "metadata": {},
   "outputs": [
    {
     "data": {
      "text/html": [
       "<div>\n",
       "<style scoped>\n",
       "    .dataframe tbody tr th:only-of-type {\n",
       "        vertical-align: middle;\n",
       "    }\n",
       "\n",
       "    .dataframe tbody tr th {\n",
       "        vertical-align: top;\n",
       "    }\n",
       "\n",
       "    .dataframe thead th {\n",
       "        text-align: right;\n",
       "    }\n",
       "</style>\n",
       "<table border=\"1\" class=\"dataframe\">\n",
       "  <thead>\n",
       "    <tr style=\"text-align: right;\">\n",
       "      <th></th>\n",
       "      <th>UserID</th>\n",
       "      <th>WindowID</th>\n",
       "      <th>Split</th>\n",
       "      <th>City</th>\n",
       "      <th>State</th>\n",
       "      <th>Country</th>\n",
       "      <th>ZipCode</th>\n",
       "      <th>DegreeType</th>\n",
       "      <th>Major</th>\n",
       "      <th>GraduationDate</th>\n",
       "      <th>WorkHistoryCount</th>\n",
       "      <th>TotalYearsExperience</th>\n",
       "      <th>CurrentlyEmployed</th>\n",
       "      <th>ManagedOthers</th>\n",
       "      <th>ManagedHowMany</th>\n",
       "    </tr>\n",
       "  </thead>\n",
       "  <tbody>\n",
       "    <tr>\n",
       "      <th>0</th>\n",
       "      <td>47</td>\n",
       "      <td>1</td>\n",
       "      <td>Train</td>\n",
       "      <td>Paramount</td>\n",
       "      <td>CA</td>\n",
       "      <td>US</td>\n",
       "      <td>90723</td>\n",
       "      <td>High School</td>\n",
       "      <td>NaN</td>\n",
       "      <td>1999-06-01 00:00:00</td>\n",
       "      <td>3</td>\n",
       "      <td>10.0</td>\n",
       "      <td>Yes</td>\n",
       "      <td>No</td>\n",
       "      <td>0</td>\n",
       "    </tr>\n",
       "    <tr>\n",
       "      <th>1</th>\n",
       "      <td>72</td>\n",
       "      <td>1</td>\n",
       "      <td>Train</td>\n",
       "      <td>La Mesa</td>\n",
       "      <td>CA</td>\n",
       "      <td>US</td>\n",
       "      <td>91941</td>\n",
       "      <td>Master's</td>\n",
       "      <td>Anthropology</td>\n",
       "      <td>2011-01-01 00:00:00</td>\n",
       "      <td>10</td>\n",
       "      <td>8.0</td>\n",
       "      <td>Yes</td>\n",
       "      <td>No</td>\n",
       "      <td>0</td>\n",
       "    </tr>\n",
       "    <tr>\n",
       "      <th>2</th>\n",
       "      <td>80</td>\n",
       "      <td>1</td>\n",
       "      <td>Train</td>\n",
       "      <td>Williamstown</td>\n",
       "      <td>NJ</td>\n",
       "      <td>US</td>\n",
       "      <td>08094</td>\n",
       "      <td>High School</td>\n",
       "      <td>Not Applicable</td>\n",
       "      <td>1985-06-01 00:00:00</td>\n",
       "      <td>5</td>\n",
       "      <td>11.0</td>\n",
       "      <td>Yes</td>\n",
       "      <td>Yes</td>\n",
       "      <td>5</td>\n",
       "    </tr>\n",
       "    <tr>\n",
       "      <th>3</th>\n",
       "      <td>98</td>\n",
       "      <td>1</td>\n",
       "      <td>Train</td>\n",
       "      <td>Astoria</td>\n",
       "      <td>NY</td>\n",
       "      <td>US</td>\n",
       "      <td>11105</td>\n",
       "      <td>Master's</td>\n",
       "      <td>Journalism</td>\n",
       "      <td>2007-05-01 00:00:00</td>\n",
       "      <td>3</td>\n",
       "      <td>3.0</td>\n",
       "      <td>Yes</td>\n",
       "      <td>No</td>\n",
       "      <td>0</td>\n",
       "    </tr>\n",
       "    <tr>\n",
       "      <th>4</th>\n",
       "      <td>123</td>\n",
       "      <td>1</td>\n",
       "      <td>Train</td>\n",
       "      <td>Baton Rouge</td>\n",
       "      <td>LA</td>\n",
       "      <td>US</td>\n",
       "      <td>70808</td>\n",
       "      <td>Bachelor's</td>\n",
       "      <td>Agricultural Business</td>\n",
       "      <td>2011-05-01 00:00:00</td>\n",
       "      <td>1</td>\n",
       "      <td>9.0</td>\n",
       "      <td>Yes</td>\n",
       "      <td>No</td>\n",
       "      <td>0</td>\n",
       "    </tr>\n",
       "  </tbody>\n",
       "</table>\n",
       "</div>"
      ],
      "text/plain": [
       "   UserID  WindowID  Split          City State Country ZipCode   DegreeType  \\\n",
       "0      47         1  Train     Paramount    CA      US   90723  High School   \n",
       "1      72         1  Train       La Mesa    CA      US   91941     Master's   \n",
       "2      80         1  Train  Williamstown    NJ      US   08094  High School   \n",
       "3      98         1  Train       Astoria    NY      US   11105     Master's   \n",
       "4     123         1  Train   Baton Rouge    LA      US   70808   Bachelor's   \n",
       "\n",
       "                   Major       GraduationDate  WorkHistoryCount  \\\n",
       "0                    NaN  1999-06-01 00:00:00                 3   \n",
       "1           Anthropology  2011-01-01 00:00:00                10   \n",
       "2         Not Applicable  1985-06-01 00:00:00                 5   \n",
       "3             Journalism  2007-05-01 00:00:00                 3   \n",
       "4  Agricultural Business  2011-05-01 00:00:00                 1   \n",
       "\n",
       "   TotalYearsExperience CurrentlyEmployed ManagedOthers  ManagedHowMany  \n",
       "0                  10.0               Yes            No               0  \n",
       "1                   8.0               Yes            No               0  \n",
       "2                  11.0               Yes           Yes               5  \n",
       "3                   3.0               Yes            No               0  \n",
       "4                   9.0               Yes            No               0  "
      ]
     },
     "execution_count": 6,
     "metadata": {},
     "output_type": "execute_result"
    }
   ],
   "source": [
    "users.head()"
   ]
  },
  {
   "cell_type": "markdown",
   "metadata": {},
   "source": [
    "# Filtering the data using WindowID==1"
   ]
  },
  {
   "cell_type": "code",
   "execution_count": 7,
   "metadata": {},
   "outputs": [],
   "source": [
    "apps_training = apps[(apps[\"WindowID\"]==1) & (apps[\"Split\"]==\"Train\")]\n",
    "apps_test = apps[(apps[\"WindowID\"]==1) & (apps[\"Split\"]==\"Test\")]\n",
    "user_history_training = user_history[(user_history[\"WindowID\"]==1) & (user_history[\"Split\"]==\"Train\")]\n",
    "user_history_test = user_history[(user_history[\"WindowID\"]==1) & (user_history[\"Split\"]==\"Test\")]\n",
    "user_training = users[(users[\"WindowID\"]==1) & (users[\"Split\"]==\"Train\")]\n",
    "user_test = users[(users[\"WindowID\"]==1) & (users[\"Split\"]==\"Test\")]"
   ]
  },
  {
   "cell_type": "code",
   "execution_count": 8,
   "metadata": {},
   "outputs": [
    {
     "name": "stdout",
     "output_type": "stream",
     "text": [
      "5419\n",
      "3138\n",
      "60274\n",
      "2281\n",
      "3138\n",
      "5419\n"
     ]
    }
   ],
   "source": [
    "user_ids_test = set(list(user_test[\"UserID\"].unique()))\n",
    "user_ids_train = set(list(user_training[\"UserID\"].unique()))\n",
    "apps_ids_train = set(list(apps_training[\"UserID\"].unique()))\n",
    "apps_ids_test = set(list(apps_test[\"UserID\"].unique()))\n",
    "print(len(user_ids_test))\n",
    "print(len(apps_ids_test))\n",
    "print(len(apps_ids_train))\n",
    "print(len(user_ids_test-apps_ids_test))\n",
    "print(len(apps_ids_test - apps_ids_train))\n",
    "print(len(user_ids_test-user_ids_train))\n"
   ]
  },
  {
   "cell_type": "code",
   "execution_count": 9,
   "metadata": {},
   "outputs": [
    {
     "name": "stdout",
     "output_type": "stream",
     "text": [
      "7\n",
      "12027\n",
      "67\n"
     ]
    }
   ],
   "source": [
    "print(user_training[\"DegreeType\"].nunique())\n",
    "print(user_training[\"Major\"].nunique())\n",
    "print(user_training[\"Country\"].nunique())\n",
    "user_training = user_training.iloc[0:20000,:]\n",
    "user_training[\"DegreeType\"] = user_training[\"DegreeType\"].fillna(\"\")\n",
    "user_training[\"Major\"] = user_training[\"Major\"].fillna(\"\")\n",
    "user_training[\"TotalYearsExperience\"] = user_training[\"TotalYearsExperience\"].fillna(0)"
   ]
  },
  {
   "cell_type": "code",
   "execution_count": 10,
   "metadata": {},
   "outputs": [
    {
     "data": {
      "text/plain": [
       "(20000, 15)"
      ]
     },
     "execution_count": 10,
     "metadata": {},
     "output_type": "execute_result"
    }
   ],
   "source": [
    "user_training.shape"
   ]
  },
  {
   "cell_type": "markdown",
   "metadata": {},
   "source": [
    "# Convert \"Major\" column into TF-IDF vectors"
   ]
  },
  {
   "cell_type": "code",
   "execution_count": 11,
   "metadata": {},
   "outputs": [
    {
     "name": "stderr",
     "output_type": "stream",
     "text": [
      "c:\\Users\\btr\\AppData\\Local\\Programs\\Python\\Python310\\lib\\site-packages\\sklearn\\utils\\deprecation.py:87: FutureWarning: Function get_feature_names is deprecated; get_feature_names is deprecated in 1.0 and will be removed in 1.2. Please use get_feature_names_out instead.\n",
      "  warnings.warn(msg, category=FutureWarning)\n"
     ]
    }
   ],
   "source": [
    "tf = TfidfVectorizer(analyzer='word',ngram_range=(1, 2),min_df=0, stop_words='english')\n",
    "tfidf_matrix = tf.fit_transform(user_training['Major'])\n",
    "tfidf_df = pd.DataFrame(tfidf_matrix.toarray(), columns=tf.get_feature_names())"
   ]
  },
  {
   "cell_type": "code",
   "execution_count": 12,
   "metadata": {},
   "outputs": [
    {
     "name": "stdout",
     "output_type": "stream",
     "text": [
      "5684\n"
     ]
    },
    {
     "name": "stderr",
     "output_type": "stream",
     "text": [
      "c:\\Users\\btr\\AppData\\Local\\Programs\\Python\\Python310\\lib\\site-packages\\sklearn\\utils\\deprecation.py:87: FutureWarning: Function get_feature_names is deprecated; get_feature_names is deprecated in 1.0 and will be removed in 1.2. Please use get_feature_names_out instead.\n",
      "  warnings.warn(msg, category=FutureWarning)\n"
     ]
    }
   ],
   "source": [
    "print(len(list(tf.get_feature_names())))"
   ]
  },
  {
   "cell_type": "markdown",
   "metadata": {},
   "source": [
    "# Concat numerical feature, categorical features and tf-idf vectors for train data"
   ]
  },
  {
   "cell_type": "code",
   "execution_count": 13,
   "metadata": {},
   "outputs": [],
   "source": [
    "cat_feats = [\"DegreeType\",\"CurrentlyEmployed\",\"ManagedOthers\"]\n",
    "num_feats = [\"WorkHistoryCount\",\"TotalYearsExperience\",\"ManagedHowMany\"]\n",
    "for col in cat_feats:\n",
    "    user_training[col] = user_training[col].astype(\"category\")\n",
    "user_training_cat = user_training[cat_feats]\n",
    "user_training_num = user_training[num_feats]\n",
    "user_training_cat = pd.get_dummies(user_training_cat,drop_first=True)\n",
    "user_training_num_cat = pd.concat([tfidf_df.reset_index(drop=True),user_training_num.reset_index(drop=True),user_training_cat.reset_index(drop=True)],axis=1,ignore_index=True)\n"
   ]
  },
  {
   "cell_type": "markdown",
   "metadata": {},
   "source": [
    "# Scaling different features onto same scale"
   ]
  },
  {
   "cell_type": "code",
   "execution_count": 14,
   "metadata": {},
   "outputs": [],
   "source": [
    "from sklearn.preprocessing import MinMaxScaler\n",
    "def scaler(X):\n",
    "    scale = MinMaxScaler()\n",
    "    colnames = X.select_dtypes(include=['float64','int64']).columns.to_list()\n",
    "    #colnames.remove(\"salary\") #salary is target variable\n",
    "    print('\\nThe following columns are scaled:\\n')\n",
    "    #print(colnames)\n",
    "    scale.fit(X[colnames])\n",
    "    X[colnames] =  scale.transform(X[colnames])\n",
    "    return X,scale"
   ]
  },
  {
   "cell_type": "code",
   "execution_count": 15,
   "metadata": {},
   "outputs": [
    {
     "name": "stdout",
     "output_type": "stream",
     "text": [
      "<class 'pandas.core.frame.DataFrame'>\n",
      "RangeIndex: 20000 entries, 0 to 19999\n",
      "Columns: 5695 entries, 0 to 5694\n",
      "dtypes: float64(5685), int64(2), uint8(8)\n",
      "memory usage: 867.9 MB\n",
      "\n",
      "The following columns are scaled:\n",
      "\n"
     ]
    }
   ],
   "source": [
    "user_training_num_cat.info()\n",
    "user_training_num_cat,scaler_user = scaler(user_training_num_cat)"
   ]
  },
  {
   "cell_type": "code",
   "execution_count": 16,
   "metadata": {},
   "outputs": [
    {
     "data": {
      "text/plain": [
       "0       0\n",
       "1       0\n",
       "2       0\n",
       "3       0\n",
       "4       0\n",
       "       ..\n",
       "5690    0\n",
       "5691    0\n",
       "5692    0\n",
       "5693    0\n",
       "5694    0\n",
       "Length: 5695, dtype: int64"
      ]
     },
     "execution_count": 16,
     "metadata": {},
     "output_type": "execute_result"
    }
   ],
   "source": [
    "user_training_num_cat.isnull().sum()"
   ]
  },
  {
   "cell_type": "markdown",
   "metadata": {},
   "source": [
    "# Use K nearest neighbour for similar user search"
   ]
  },
  {
   "cell_type": "code",
   "execution_count": 17,
   "metadata": {},
   "outputs": [
    {
     "data": {
      "text/html": [
       "<style>#sk-container-id-1 {color: black;background-color: white;}#sk-container-id-1 pre{padding: 0;}#sk-container-id-1 div.sk-toggleable {background-color: white;}#sk-container-id-1 label.sk-toggleable__label {cursor: pointer;display: block;width: 100%;margin-bottom: 0;padding: 0.3em;box-sizing: border-box;text-align: center;}#sk-container-id-1 label.sk-toggleable__label-arrow:before {content: \"▸\";float: left;margin-right: 0.25em;color: #696969;}#sk-container-id-1 label.sk-toggleable__label-arrow:hover:before {color: black;}#sk-container-id-1 div.sk-estimator:hover label.sk-toggleable__label-arrow:before {color: black;}#sk-container-id-1 div.sk-toggleable__content {max-height: 0;max-width: 0;overflow: hidden;text-align: left;background-color: #f0f8ff;}#sk-container-id-1 div.sk-toggleable__content pre {margin: 0.2em;color: black;border-radius: 0.25em;background-color: #f0f8ff;}#sk-container-id-1 input.sk-toggleable__control:checked~div.sk-toggleable__content {max-height: 200px;max-width: 100%;overflow: auto;}#sk-container-id-1 input.sk-toggleable__control:checked~label.sk-toggleable__label-arrow:before {content: \"▾\";}#sk-container-id-1 div.sk-estimator input.sk-toggleable__control:checked~label.sk-toggleable__label {background-color: #d4ebff;}#sk-container-id-1 div.sk-label input.sk-toggleable__control:checked~label.sk-toggleable__label {background-color: #d4ebff;}#sk-container-id-1 input.sk-hidden--visually {border: 0;clip: rect(1px 1px 1px 1px);clip: rect(1px, 1px, 1px, 1px);height: 1px;margin: -1px;overflow: hidden;padding: 0;position: absolute;width: 1px;}#sk-container-id-1 div.sk-estimator {font-family: monospace;background-color: #f0f8ff;border: 1px dotted black;border-radius: 0.25em;box-sizing: border-box;margin-bottom: 0.5em;}#sk-container-id-1 div.sk-estimator:hover {background-color: #d4ebff;}#sk-container-id-1 div.sk-parallel-item::after {content: \"\";width: 100%;border-bottom: 1px solid gray;flex-grow: 1;}#sk-container-id-1 div.sk-label:hover label.sk-toggleable__label {background-color: #d4ebff;}#sk-container-id-1 div.sk-serial::before {content: \"\";position: absolute;border-left: 1px solid gray;box-sizing: border-box;top: 0;bottom: 0;left: 50%;z-index: 0;}#sk-container-id-1 div.sk-serial {display: flex;flex-direction: column;align-items: center;background-color: white;padding-right: 0.2em;padding-left: 0.2em;position: relative;}#sk-container-id-1 div.sk-item {position: relative;z-index: 1;}#sk-container-id-1 div.sk-parallel {display: flex;align-items: stretch;justify-content: center;background-color: white;position: relative;}#sk-container-id-1 div.sk-item::before, #sk-container-id-1 div.sk-parallel-item::before {content: \"\";position: absolute;border-left: 1px solid gray;box-sizing: border-box;top: 0;bottom: 0;left: 50%;z-index: -1;}#sk-container-id-1 div.sk-parallel-item {display: flex;flex-direction: column;z-index: 1;position: relative;background-color: white;}#sk-container-id-1 div.sk-parallel-item:first-child::after {align-self: flex-end;width: 50%;}#sk-container-id-1 div.sk-parallel-item:last-child::after {align-self: flex-start;width: 50%;}#sk-container-id-1 div.sk-parallel-item:only-child::after {width: 0;}#sk-container-id-1 div.sk-dashed-wrapped {border: 1px dashed gray;margin: 0 0.4em 0.5em 0.4em;box-sizing: border-box;padding-bottom: 0.4em;background-color: white;}#sk-container-id-1 div.sk-label label {font-family: monospace;font-weight: bold;display: inline-block;line-height: 1.2em;}#sk-container-id-1 div.sk-label-container {text-align: center;}#sk-container-id-1 div.sk-container {/* jupyter's `normalize.less` sets `[hidden] { display: none; }` but bootstrap.min.css set `[hidden] { display: none !important; }` so we also need the `!important` here to be able to override the default hidden behavior on the sphinx rendered scikit-learn.org. See: https://github.com/scikit-learn/scikit-learn/issues/21755 */display: inline-block !important;position: relative;}#sk-container-id-1 div.sk-text-repr-fallback {display: none;}</style><div id=\"sk-container-id-1\" class=\"sk-top-container\"><div class=\"sk-text-repr-fallback\"><pre>NearestNeighbors(n_jobs=-1)</pre><b>In a Jupyter environment, please rerun this cell to show the HTML representation or trust the notebook. <br />On GitHub, the HTML representation is unable to render, please try loading this page with nbviewer.org.</b></div><div class=\"sk-container\" hidden><div class=\"sk-item\"><div class=\"sk-estimator sk-toggleable\"><input class=\"sk-toggleable__control sk-hidden--visually\" id=\"sk-estimator-id-1\" type=\"checkbox\" checked><label for=\"sk-estimator-id-1\" class=\"sk-toggleable__label sk-toggleable__label-arrow\">NearestNeighbors</label><div class=\"sk-toggleable__content\"><pre>NearestNeighbors(n_jobs=-1)</pre></div></div></div></div></div>"
      ],
      "text/plain": [
       "NearestNeighbors(n_jobs=-1)"
      ]
     },
     "execution_count": 17,
     "metadata": {},
     "output_type": "execute_result"
    }
   ],
   "source": [
    "from sklearn.neighbors import NearestNeighbors\n",
    "neigh_users = NearestNeighbors(n_neighbors=5, n_jobs=-1) \n",
    "neigh_users.fit(user_training_num_cat)"
   ]
  },
  {
   "cell_type": "code",
   "execution_count": 18,
   "metadata": {},
   "outputs": [
    {
     "data": {
      "text/plain": [
       "(5419, 15)"
      ]
     },
     "execution_count": 18,
     "metadata": {},
     "output_type": "execute_result"
    }
   ],
   "source": [
    "user_test.shape"
   ]
  },
  {
   "cell_type": "markdown",
   "metadata": {},
   "source": [
    "# Processing for test users"
   ]
  },
  {
   "cell_type": "code",
   "execution_count": 25,
   "metadata": {},
   "outputs": [],
   "source": [
    "user_test[\"DegreeType\"] = user_test[\"DegreeType\"].fillna(\"\")\n",
    "user_test[\"Major\"] = user_test[\"Major\"].fillna(\"\")\n",
    "user_test[\"TotalYearsExperience\"] = user_test[\"TotalYearsExperience\"].fillna(0)"
   ]
  },
  {
   "cell_type": "markdown",
   "metadata": {},
   "source": [
    "# Tranform test users using TF-IDF(use \"Major\" column)"
   ]
  },
  {
   "cell_type": "code",
   "execution_count": 20,
   "metadata": {},
   "outputs": [
    {
     "name": "stderr",
     "output_type": "stream",
     "text": [
      "c:\\Users\\btr\\AppData\\Local\\Programs\\Python\\Python310\\lib\\site-packages\\sklearn\\utils\\deprecation.py:87: FutureWarning: Function get_feature_names is deprecated; get_feature_names is deprecated in 1.0 and will be removed in 1.2. Please use get_feature_names_out instead.\n",
      "  warnings.warn(msg, category=FutureWarning)\n"
     ]
    }
   ],
   "source": [
    "tfidf_matrix = tf.transform(user_test['Major'])\n",
    "tfidf_df = pd.DataFrame(tfidf_matrix.toarray(), columns=tf.get_feature_names())"
   ]
  },
  {
   "cell_type": "markdown",
   "metadata": {},
   "source": [
    "# Concat numerical feature, categorical features and tf-idf vectors for test data"
   ]
  },
  {
   "cell_type": "code",
   "execution_count": 21,
   "metadata": {},
   "outputs": [
    {
     "name": "stderr",
     "output_type": "stream",
     "text": [
      "C:\\Users\\btr\\AppData\\Local\\Temp\\ipykernel_30896\\4083328718.py:2: SettingWithCopyWarning: \n",
      "A value is trying to be set on a copy of a slice from a DataFrame.\n",
      "Try using .loc[row_indexer,col_indexer] = value instead\n",
      "\n",
      "See the caveats in the documentation: https://pandas.pydata.org/pandas-docs/stable/user_guide/indexing.html#returning-a-view-versus-a-copy\n",
      "  user_test[col] = user_test[col].astype(\"category\")\n",
      "C:\\Users\\btr\\AppData\\Local\\Temp\\ipykernel_30896\\4083328718.py:2: SettingWithCopyWarning: \n",
      "A value is trying to be set on a copy of a slice from a DataFrame.\n",
      "Try using .loc[row_indexer,col_indexer] = value instead\n",
      "\n",
      "See the caveats in the documentation: https://pandas.pydata.org/pandas-docs/stable/user_guide/indexing.html#returning-a-view-versus-a-copy\n",
      "  user_test[col] = user_test[col].astype(\"category\")\n",
      "C:\\Users\\btr\\AppData\\Local\\Temp\\ipykernel_30896\\4083328718.py:2: SettingWithCopyWarning: \n",
      "A value is trying to be set on a copy of a slice from a DataFrame.\n",
      "Try using .loc[row_indexer,col_indexer] = value instead\n",
      "\n",
      "See the caveats in the documentation: https://pandas.pydata.org/pandas-docs/stable/user_guide/indexing.html#returning-a-view-versus-a-copy\n",
      "  user_test[col] = user_test[col].astype(\"category\")\n"
     ]
    }
   ],
   "source": [
    "for col in cat_feats:\n",
    "    user_test[col] = user_test[col].astype(\"category\")\n",
    "user_test_cat = user_test[cat_feats]\n",
    "user_test_num = user_test[num_feats]\n",
    "user_test_cat = pd.get_dummies(user_test_cat,drop_first=True)\n",
    "user_test_cat = user_test_cat.reindex(columns = user_training_cat.columns,fill_value=0)\n",
    "user_test_num_cat = pd.concat([tfidf_df.reset_index(drop=True),user_test_num.reset_index(drop=True),user_test_cat.reset_index(drop=True)],axis=1,ignore_index=True)"
   ]
  },
  {
   "cell_type": "markdown",
   "metadata": {},
   "source": [
    "# Tranform test user using training scaler"
   ]
  },
  {
   "cell_type": "code",
   "execution_count": 22,
   "metadata": {},
   "outputs": [
    {
     "name": "stdout",
     "output_type": "stream",
     "text": [
      "(20000, 5695)\n",
      "(5419, 5695)\n"
     ]
    }
   ],
   "source": [
    "print(user_training_num_cat.shape)\n",
    "print(user_test_num_cat.shape)\n",
    "colnames = user_test_num_cat.select_dtypes(include=['float64','int64']).columns.to_list()\n",
    "user_test_num_cat[colnames] = scaler_user.transform(user_test_num_cat[colnames])\n"
   ]
  },
  {
   "cell_type": "markdown",
   "metadata": {},
   "source": [
    "# Function to perform collaborative filtering using similar users"
   ]
  },
  {
   "cell_type": "code",
   "execution_count": 28,
   "metadata": {},
   "outputs": [
    {
     "name": "stdout",
     "output_type": "stream",
     "text": [
      "    UserID  WindowID Split      City State Country ZipCode  DegreeType  \\\n",
      "31     767         1  Test  Murrieta    CA      US   92562  Bachelor's   \n",
      "\n",
      "                          Major       GraduationDate  WorkHistoryCount  \\\n",
      "31  University Studies/Business  2008-05-01 00:00:00                 5   \n",
      "\n",
      "    TotalYearsExperience CurrentlyEmployed ManagedOthers  ManagedHowMany  \n",
      "31                  16.0                No            No               0  \n",
      "      UserID  WindowID  Split     City State Country ZipCode  DegreeType  \\\n",
      "3770   87637         1  Train  Watauga    TX      US   76148  Bachelor's   \n",
      "\n",
      "                   Major       GraduationDate  WorkHistoryCount  \\\n",
      "3770  University Studies  2011-01-01 00:00:00                 2   \n",
      "\n",
      "      TotalYearsExperience CurrentlyEmployed ManagedOthers  ManagedHowMany  \n",
      "3770                  14.0                No            No               0  \n",
      "       UserID  WindowID  Split       City State Country ZipCode  DegreeType  \\\n",
      "18762  373207         1  Train  Arlington    TX      US   76006  Bachelor's   \n",
      "\n",
      "                    Major       GraduationDate  WorkHistoryCount  \\\n",
      "18762  University Studies  2012-04-01 00:00:00                 8   \n",
      "\n",
      "       TotalYearsExperience CurrentlyEmployed ManagedOthers  ManagedHowMany  \n",
      "18762                   6.0               NaN            No               0  \n",
      "       UserID  WindowID  Split        City State Country ZipCode  DegreeType  \\\n",
      "14890  288219         1  Train  Woodbridge    NJ      US   07095  Bachelor's   \n",
      "\n",
      "      Major       GraduationDate  WorkHistoryCount  TotalYearsExperience  \\\n",
      "14890        2007-01-01 00:00:00                 5                  17.0   \n",
      "\n",
      "      CurrentlyEmployed ManagedOthers  ManagedHowMany  \n",
      "14890                No            No               0  \n",
      "       UserID  WindowID  Split        City State Country ZipCode  DegreeType  \\\n",
      "16352  318502         1  Train  The Colony    TX      US   75056  Bachelor's   \n",
      "\n",
      "      Major       GraduationDate  WorkHistoryCount  TotalYearsExperience  \\\n",
      "16352        2001-01-01 00:00:00                 5                  15.0   \n",
      "\n",
      "      CurrentlyEmployed ManagedOthers  ManagedHowMany  \n",
      "16352               NaN            No               0  \n",
      "       UserID  WindowID  Split      City State Country ZipCode  DegreeType  \\\n",
      "17878  352991         1  Train  Brooklyn    NY      US   11226  Bachelor's   \n",
      "\n",
      "      Major       GraduationDate  WorkHistoryCount  TotalYearsExperience  \\\n",
      "17878        2002-02-01 00:00:00                 5                  18.0   \n",
      "\n",
      "      CurrentlyEmployed ManagedOthers  ManagedHowMany  \n",
      "17878                No            No               0  \n",
      "[87637, 373207, 288219, 318502, 352991]\n",
      "          JobID                                              Title  \\\n",
      "66812    262053                                 PAYROLL SPECIALIST   \n",
      "71853    283053                               Part Time Bookkeeper   \n",
      "71976    283389                             Bookkeeper - Full Time   \n",
      "112110   442616                           Administrative Assistant   \n",
      "161365   630942  Office Mgr/Bookkeeper  Mon - Fri 8:30am - 4:30...   \n",
      "248475   972229                                Sourcing Specialist   \n",
      "258877  1014671                                              Buyer   \n",
      "\n",
      "                                              Description         City State  \n",
      "66812   <p><span>We currently seek an experienced prof...       Dayton    NJ  \n",
      "71853   <ul>\\r    <li>Part time Bookkeeper - 10 hours ...        Union    NJ  \n",
      "71976   Full Charge Bookkeeper needed - Knowledge of Q...  Mount Holly    NJ  \n",
      "112110  <p>Americold is the largest provider of temper...   Fort Worth    TX  \n",
      "161365  <p align=\"center\">\\r\\n      Office Mgr/Bookkee...  Englishtown    NJ  \n",
      "248475  The Sourcing Specialist researches and identif...        Plano    TX  \n",
      "258877  <p><strong><span>In this position, Manufacturi...   Royse City    TX  \n",
      "    UserID  WindowID Split     City State Country ZipCode  DegreeType  \\\n",
      "32     769         1  Test  Roselle    IL      US   60172  Bachelor's   \n",
      "\n",
      "               Major       GraduationDate  WorkHistoryCount  \\\n",
      "32  Radio-Television  2011-05-01 00:00:00                 5   \n",
      "\n",
      "    TotalYearsExperience CurrentlyEmployed ManagedOthers  ManagedHowMany  \n",
      "32                   5.0               Yes            No               0  \n",
      "      UserID  WindowID  Split        City State Country ZipCode  DegreeType  \\\n",
      "2684   62458         1  Train  Fort Worth    TX      US   76126  Bachelor's   \n",
      "\n",
      "                     Major       GraduationDate  WorkHistoryCount  \\\n",
      "2684  Radio and Television  1984-01-01 00:00:00                 6   \n",
      "\n",
      "      TotalYearsExperience CurrentlyEmployed ManagedOthers  ManagedHowMany  \n",
      "2684                  28.0               Yes           Yes              11  \n",
      "      UserID  WindowID  Split      City State Country ZipCode  DegreeType  \\\n",
      "4139   96653         1  Train  Brooklyn    NY      US   11201  Bachelor's   \n",
      "\n",
      "     Major       GraduationDate  WorkHistoryCount  TotalYearsExperience  \\\n",
      "4139        2009-01-01 00:00:00                 5                   5.0   \n",
      "\n",
      "     CurrentlyEmployed ManagedOthers  ManagedHowMany  \n",
      "4139               Yes            No               0  \n",
      "      UserID  WindowID  Split     City State Country ZipCode  DegreeType  \\\n",
      "8655  182358         1  Train  Phoenix    AZ      US   85008  Bachelor's   \n",
      "\n",
      "     Major       GraduationDate  WorkHistoryCount  TotalYearsExperience  \\\n",
      "8655        2011-12-01 00:00:00                 5                   7.0   \n",
      "\n",
      "     CurrentlyEmployed ManagedOthers  ManagedHowMany  \n",
      "8655               Yes            No               0  \n",
      "      UserID  WindowID  Split     City State Country ZipCode  DegreeType  \\\n",
      "8665  182569         1  Train  Norwood    OH      US   45212  Bachelor's   \n",
      "\n",
      "     Major       GraduationDate  WorkHistoryCount  TotalYearsExperience  \\\n",
      "8665        2009-12-01 00:00:00                 5                   7.0   \n",
      "\n",
      "     CurrentlyEmployed ManagedOthers  ManagedHowMany  \n",
      "8665               Yes            No               0  \n",
      "       UserID  WindowID  Split        City State Country ZipCode  DegreeType  \\\n",
      "14005  271972         1  Train  Canonsburg    PA      US   15317  Bachelor's   \n",
      "\n",
      "      Major       GraduationDate  WorkHistoryCount  TotalYearsExperience  \\\n",
      "14005        2004-05-01 00:00:00                 5                   8.0   \n",
      "\n",
      "      CurrentlyEmployed ManagedOthers  ManagedHowMany  \n",
      "14005               Yes            No               0  \n",
      "[62458, 96653, 182358, 182569, 271972]\n",
      "          JobID                                              Title  \\\n",
      "63940    250768                             PATIENT HEALTH PARTNER   \n",
      "84756    331309     Program Manager / BHT's / BHT-T's / Caregivers   \n",
      "123365   485341     Sales - Sales Management (Sales and Marketing)   \n",
      "189344   743410  Prescription Drug Monitoring Account Executive...   \n",
      "205067   803088                                  Territory Manager   \n",
      "218138   854638           Sales & Marketing - Health Care Industry   \n",
      "219306   859056           Senior Account Manager - Pittsburgh (RR)   \n",
      "250459   981381                   Outside Sales Rep – $70k - $100k   \n",
      "258646  1013752                                  Director of Sales   \n",
      "\n",
      "                                              Description         City State  \n",
      "63940   <div>\\r<p><strong>Patient Health Partner</stro...  East Meadow    NY  \n",
      "84756   Program Managers/ BHT's/ BHT-T's/ Caregivers \\...      Phoenix    AZ  \n",
      "123365  <p><strong><span>Job Description</span></stron...       Dallas    TX  \n",
      "189344  There's quite a distance between wondering and...   Pittsburgh    PA  \n",
      "205067  <p style=\"text-align: justify;\"><span>Horizon ...       Dallas    TX  \n",
      "218138  <p>If you are a Marketing Rep., Sales Represen...       Dallas    TX  \n",
      "219306  Join our team and take your career to the next...   Pittsburgh    PA  \n",
      "250459  Cincinnati-based<STRONG> Cintas</STRONG> is th...       Dallas    TX  \n",
      "258646  <p><b><span>&nbsp;</span></b></p>\\r<p><b>True ...       Dallas    TX  \n",
      "    UserID  WindowID Split    City State Country ZipCode   DegreeType  \\\n",
      "33     861         1  Test  Morris    IL      US   60450  High School   \n",
      "\n",
      "              Major       GraduationDate  WorkHistoryCount  \\\n",
      "33  General Studies  1989-05-01 00:00:00                 7   \n",
      "\n",
      "    TotalYearsExperience CurrentlyEmployed ManagedOthers  ManagedHowMany  \n",
      "33                  21.0               NaN            No               0  \n",
      "      UserID  WindowID  Split     City State Country ZipCode   DegreeType  \\\n",
      "1203   27464         1  Train  Deltona    FL      US   32738  High School   \n",
      "\n",
      "                Major       GraduationDate  WorkHistoryCount  \\\n",
      "1203  General Studies  1988-06-01 00:00:00                 7   \n",
      "\n",
      "      TotalYearsExperience CurrentlyEmployed ManagedOthers  ManagedHowMany  \n",
      "1203                  19.0               NaN            No               0  \n",
      "      UserID  WindowID  Split          City State Country ZipCode  \\\n",
      "5748  129269         1  Train  Reisterstown    MD      US   21136   \n",
      "\n",
      "       DegreeType            Major       GraduationDate  WorkHistoryCount  \\\n",
      "5748  High School  General Studies  1993-06-01 00:00:00                 7   \n",
      "\n",
      "      TotalYearsExperience CurrentlyEmployed ManagedOthers  ManagedHowMany  \n",
      "5748                  17.0                No            No               0  \n",
      "     UserID  WindowID  Split           City State Country ZipCode  \\\n",
      "978   22780         1  Train  Mount Clemens    MI      US   48043   \n",
      "\n",
      "      DegreeType            Major       GraduationDate  WorkHistoryCount  \\\n",
      "978  High School  General Studies  1994-06-01 00:00:00                 7   \n",
      "\n",
      "     TotalYearsExperience CurrentlyEmployed ManagedOthers  ManagedHowMany  \n",
      "978                  17.0                No            No               0  \n",
      "       UserID  WindowID  Split         City State Country ZipCode  \\\n",
      "12045  237412         1  Train  Saint Louis    MO      US   63137   \n",
      "\n",
      "        DegreeType            Major       GraduationDate  WorkHistoryCount  \\\n",
      "12045  High School  General Studies  1982-05-01 00:00:00                 8   \n",
      "\n",
      "       TotalYearsExperience CurrentlyEmployed ManagedOthers  ManagedHowMany  \n",
      "12045                  22.0                No            No               0  \n",
      "       UserID  WindowID  Split      City State Country ZipCode   DegreeType  \\\n",
      "19183  383804         1  Train  Chandler    AZ      US   85286  High School   \n",
      "\n",
      "                 Major       GraduationDate  WorkHistoryCount  \\\n",
      "19183  General Studies  1990-01-01 00:00:00                 8   \n",
      "\n",
      "       TotalYearsExperience CurrentlyEmployed ManagedOthers  ManagedHowMany  \n",
      "19183                  19.0                No            No               0  \n",
      "[27464, 129269, 22780, 237412, 383804]\n",
      "          JobID                             Title  \\\n",
      "71523    281804          Administrative Assistant   \n",
      "165280   645658  Sous Chef for Seasons 52-Orlando   \n",
      "260962  1022785                 General Warehouse   \n",
      "\n",
      "                                              Description               City  \\\n",
      "71523   Highly successful Commercial Property Manageme...           Timonium   \n",
      "165280  <p>Being a Restaurant Manager is challenging, ...  Altamonte Springs   \n",
      "260962  Prologistix is hiring for general warehouse wo...          Bridgeton   \n",
      "\n",
      "       State  \n",
      "71523     MD  \n",
      "165280    FL  \n",
      "260962    MO  \n",
      "    UserID  WindowID Split          City State Country ZipCode   DegreeType  \\\n",
      "38    1006         1  Test  West Chester    PA      US   19382  High School   \n",
      "\n",
      "             Major       GraduationDate  WorkHistoryCount  \\\n",
      "38  Not Applicable  2008-06-01 00:00:00                 3   \n",
      "\n",
      "    TotalYearsExperience CurrentlyEmployed ManagedOthers  ManagedHowMany  \n",
      "38                   6.0               Yes            No               0  \n",
      "     UserID  WindowID  Split       City State Country ZipCode   DegreeType  \\\n",
      "179    4332         1  Train  Arlington    TX      US   76013  High School   \n",
      "\n",
      "              Major       GraduationDate  WorkHistoryCount  \\\n",
      "179  Not Applicable  2006-01-01 00:00:00                 3   \n",
      "\n",
      "     TotalYearsExperience CurrentlyEmployed ManagedOthers  ManagedHowMany  \n",
      "179                   6.0               Yes            No               0  \n",
      "     UserID  WindowID  Split       City State Country ZipCode   DegreeType  \\\n",
      "938   21618         1  Train  Galesburg    IL      US   61401  High School   \n",
      "\n",
      "              Major       GraduationDate  WorkHistoryCount  \\\n",
      "938  Not Applicable  2004-12-01 00:00:00                 3   \n",
      "\n",
      "     TotalYearsExperience CurrentlyEmployed ManagedOthers  ManagedHowMany  \n",
      "938                   6.0               Yes            No               0  \n",
      "     UserID  WindowID  Split    City State Country ZipCode   DegreeType  \\\n",
      "353    8074         1  Train  Odessa    TX      US   79763  High School   \n",
      "\n",
      "              Major       GraduationDate  WorkHistoryCount  \\\n",
      "353  Not Applicable  2011-01-01 00:00:00                 3   \n",
      "\n",
      "     TotalYearsExperience CurrentlyEmployed ManagedOthers  ManagedHowMany  \n",
      "353                   6.0               Yes            No               0  \n",
      "     UserID  WindowID  Split            City State Country ZipCode  \\\n",
      "198    4688         1  Train  Bonner Springs    KS      US   66012   \n",
      "\n",
      "      DegreeType           Major       GraduationDate  WorkHistoryCount  \\\n",
      "198  High School  Not Applicable  2010-01-01 00:00:00                 3   \n",
      "\n",
      "     TotalYearsExperience CurrentlyEmployed ManagedOthers  ManagedHowMany  \n",
      "198                   6.0               Yes            No               0  \n",
      "     UserID  WindowID  Split     City State Country ZipCode   DegreeType  \\\n",
      "631   14840         1  Train  Chicago    IL      US   60629  High School   \n",
      "\n",
      "              Major       GraduationDate  WorkHistoryCount  \\\n",
      "631  Not Applicable  2009-06-01 00:00:00                 3   \n",
      "\n",
      "     TotalYearsExperience CurrentlyEmployed ManagedOthers  ManagedHowMany  \n",
      "631                   6.0               Yes            No               0  \n",
      "[4332, 21618, 8074, 4688, 14840]\n",
      "         JobID                                              Title  \\\n",
      "16585    63770                  Sales Executive / Account Manager   \n",
      "96052   377450                    Management Trainee -Kewanee, IL   \n",
      "126492  497088                                  Chemical Operator   \n",
      "127751  501522                                   Front Desk Admin   \n",
      "188880  741664  Inbound Customer Service Call Center Reps Need...   \n",
      "219665  860430                                   GENERAL MANAGERS   \n",
      "\n",
      "                                              Description        City State  \n",
      "16585   <hr>\\r<p align=\"center\"><strong>Sales Executiv...   Galesburg    IL  \n",
      "96052   <strong>Summary</strong> \\r\\nLearn to be a LEA...     Kewanee    IL  \n",
      "126492  <p style=\"text-align: justify\"><span>Do you wa...     Chicago    IL  \n",
      "127751  If you are a well rounded, personable individu...   Arlington    TX  \n",
      "188880  <ul>\\r    <li>Working in a high volume call ce...  Lewisville    TX  \n",
      "219665  <DIV>\\r<DIV><B>          Party City is hiring!...   Arlington    TX  \n",
      "    UserID  WindowID Split        City State Country ZipCode  DegreeType  \\\n",
      "44    1192         1  Test  Cincinnati    OH      US   45255  Bachelor's   \n",
      "\n",
      "        Major GraduationDate  WorkHistoryCount  TotalYearsExperience  \\\n",
      "44  Marketing            NaN                 5                   6.0   \n",
      "\n",
      "   CurrentlyEmployed ManagedOthers  ManagedHowMany  \n",
      "44               Yes            No               0  \n",
      "      UserID  WindowID  Split     City State Country ZipCode  DegreeType  \\\n",
      "6817  149379         1  Train  Roanoke    VA      US   24018  Bachelor's   \n",
      "\n",
      "          Major GraduationDate  WorkHistoryCount  TotalYearsExperience  \\\n",
      "6817  Marketing            NaN                 5                   7.0   \n",
      "\n",
      "     CurrentlyEmployed ManagedOthers  ManagedHowMany  \n",
      "6817               Yes            No               0  \n",
      "      UserID  WindowID  Split     City State Country ZipCode  DegreeType  \\\n",
      "8457  178670         1  Train  Reading    PA      US     NaN  Bachelor's   \n",
      "\n",
      "          Major       GraduationDate  WorkHistoryCount  TotalYearsExperience  \\\n",
      "8457  Marketing  2005-04-01 00:00:00                 5                   7.0   \n",
      "\n",
      "     CurrentlyEmployed ManagedOthers  ManagedHowMany  \n",
      "8457               Yes            No               0  \n",
      "     UserID  WindowID  Split            City State Country ZipCode  \\\n",
      "223    5211         1  Train  Pembroke Pines    FL      US   33025   \n",
      "\n",
      "     DegreeType      Major       GraduationDate  WorkHistoryCount  \\\n",
      "223  Bachelor's  Marketing  2012-03-01 00:00:00                 5   \n",
      "\n",
      "     TotalYearsExperience CurrentlyEmployed ManagedOthers  ManagedHowMany  \n",
      "223                   7.0               Yes            No               0  \n",
      "       UserID  WindowID  Split    City State Country ZipCode  DegreeType  \\\n",
      "19748  397357         1  Train  Apopka    FL      US   32703  Bachelor's   \n",
      "\n",
      "           Major GraduationDate  WorkHistoryCount  TotalYearsExperience  \\\n",
      "19748  marketing            NaN                 5                   5.0   \n",
      "\n",
      "      CurrentlyEmployed ManagedOthers  ManagedHowMany  \n",
      "19748               Yes            No               0  \n",
      "       UserID  WindowID  Split    City State Country ZipCode  DegreeType  \\\n",
      "16453  320912         1  Train  Euless    TX      US   76039  Bachelor's   \n",
      "\n",
      "           Major       GraduationDate  WorkHistoryCount  TotalYearsExperience  \\\n",
      "16453  Marketing  2009-01-01 00:00:00                 5                   8.0   \n",
      "\n",
      "      CurrentlyEmployed ManagedOthers  ManagedHowMany  \n",
      "16453               Yes            No               0  \n",
      "[149379, 178670, 5211, 397357, 320912]\n",
      "          JobID                                     Title  \\\n",
      "21681     86086               COLLISION CENTER ESTIMATORS   \n",
      "56067    220600                               Salespeople   \n",
      "93999    368906  Commercial Lending, Relationship Manager   \n",
      "129803   508688                     Collection Specialist   \n",
      "138479   545136              Automotive Sales Consultants   \n",
      "153171   601001                      Assistant Controller   \n",
      "190274   747531                     Health Service Agents   \n",
      "196020   769451                     Collector I ~ Orlando   \n",
      "215397   845074              Automotive Sales Consultants   \n",
      "254533   996275           Traffic & Logistics Coordinator   \n",
      "272581  1067358            Senior Event Marketing Manager   \n",
      "\n",
      "                                              Description             City  \\\n",
      "21681   <b><span style=\"text-decoration: underline\">\\r...  Fort Lauderdale   \n",
      "56067   <p align=\"center\"><strong>LEXUS</strong></p><p...      North Miami   \n",
      "93999   Susquehanna Bank has an excellent opportunity ...       Pottsville   \n",
      "129803  <span>\\r<p>United Collection Bureau, Inc. (UCB...          Miramar   \n",
      "138479  <p style=\"text-align: center\" align=\"center\"><...  Fort Lauderdale   \n",
      "153171  Assistant Controller\\r\\n </B>Immediate opening...        Allentown   \n",
      "190274  <p><span>Connextions Inc. operates five fully ...          Orlando   \n",
      "196020  Envision your career with one of the world's l...          Orlando   \n",
      "215397  <p style=\"text-align: center\" align=\"center\"><...            Davie   \n",
      "254533  <b>Job ID:</b> 2043\\r\\n\\r\\n<b>Position Descrip...        Robesonia   \n",
      "272581  <STRONG>About JPMorgan Chase:</STRONG><BR> <ST...           Dallas   \n",
      "\n",
      "       State  \n",
      "21681     FL  \n",
      "56067     FL  \n",
      "93999     PA  \n",
      "129803    FL  \n",
      "138479    FL  \n",
      "153171    PA  \n",
      "190274    FL  \n",
      "196020    FL  \n",
      "215397    FL  \n",
      "254533    PA  \n",
      "272581    TX  \n"
     ]
    }
   ],
   "source": [
    "def get_cfr(users_input):\n",
    "    res = neigh_users.kneighbors(users_input, return_distance=False)\n",
    "    ind = 0\n",
    "    users_recommendation={}\n",
    "    for sim_users in res:\n",
    "        print(user_test.iloc[ind:ind+1,:])\n",
    "        sim_user_ids = list()\n",
    "        for sim_user in sim_users:\n",
    "            sim_user_ids.append(int(user_training.iloc[sim_user:sim_user+1,:][\"UserID\"]))\n",
    "            print(user_training.iloc[sim_user:sim_user+1,:])\n",
    "        print(sim_user_ids)\n",
    "        df1 = apps_training[apps_training['UserID'].isin(sim_user_ids)][['JobID']]\n",
    "        joblist = df1['JobID'].tolist()\n",
    "        #print(\"listed jobs are: \")\n",
    "        #print(joblist)\n",
    "        df_temp = jobs[jobs['JobID'].isin(joblist)][['JobID','Title','Description','City','State']]\n",
    "        #print(user_test.iloc[ind:ind+1,:][\"UserID\"])\n",
    "        #users_recommendation[int(user_test.iloc[ind:ind+1,:][\"UserID\"])] = joblist\n",
    "        print(df_temp)\n",
    "        #input()\n",
    "        if ind>=4:\n",
    "            break\n",
    "        ind+=1\n",
    "    return users_recommendation\n",
    "\n",
    "user_recommendation = get_cfr(user_test_num_cat)"
   ]
  },
  {
   "cell_type": "markdown",
   "metadata": {},
   "source": [
    "# Filter jobs using WindowID==1"
   ]
  },
  {
   "cell_type": "code",
   "execution_count": 10,
   "metadata": {},
   "outputs": [
    {
     "name": "stderr",
     "output_type": "stream",
     "text": [
      "C:\\Users\\btr\\AppData\\Local\\Temp\\ipykernel_10568\\1408448533.py:1: FutureWarning: The error_bad_lines argument has been deprecated and will be removed in a future version. Use on_bad_lines in the future.\n",
      "\n",
      "\n",
      "  jobs = pd.read_csv('jrs_data/jobs.tsv', delimiter='\\t',encoding='utf-8', error_bad_lines=False)\n",
      "Skipping line 122433: expected 11 fields, saw 12\n",
      "\n",
      "Skipping line 602576: expected 11 fields, saw 12\n",
      "\n",
      "Skipping line 990950: expected 11 fields, saw 12\n",
      "\n",
      "C:\\Users\\btr\\AppData\\Local\\Temp\\ipykernel_10568\\1408448533.py:1: DtypeWarning: Columns (8) have mixed types. Specify dtype option on import or set low_memory=False.\n",
      "  jobs = pd.read_csv('jrs_data/jobs.tsv', delimiter='\\t',encoding='utf-8', error_bad_lines=False)\n"
     ]
    }
   ],
   "source": [
    "jobs = pd.read_csv('jrs_data/jobs.tsv', delimiter='\\t',encoding='utf-8', error_bad_lines=False)\n",
    "jobs_US= jobs[(jobs[\"WindowID\"]==1) & (jobs[\"Country\"]==\"US\")]\n",
    "jobs_US = jobs_US.iloc[0:10000,0:8]"
   ]
  },
  {
   "cell_type": "code",
   "execution_count": 11,
   "metadata": {},
   "outputs": [
    {
     "data": {
      "text/html": [
       "<div>\n",
       "<style scoped>\n",
       "    .dataframe tbody tr th:only-of-type {\n",
       "        vertical-align: middle;\n",
       "    }\n",
       "\n",
       "    .dataframe tbody tr th {\n",
       "        vertical-align: top;\n",
       "    }\n",
       "\n",
       "    .dataframe thead th {\n",
       "        text-align: right;\n",
       "    }\n",
       "</style>\n",
       "<table border=\"1\" class=\"dataframe\">\n",
       "  <thead>\n",
       "    <tr style=\"text-align: right;\">\n",
       "      <th></th>\n",
       "      <th>JobID</th>\n",
       "      <th>WindowID</th>\n",
       "      <th>Title</th>\n",
       "      <th>Description</th>\n",
       "      <th>Requirements</th>\n",
       "      <th>City</th>\n",
       "      <th>State</th>\n",
       "      <th>Country</th>\n",
       "    </tr>\n",
       "  </thead>\n",
       "  <tbody>\n",
       "    <tr>\n",
       "      <th>0</th>\n",
       "      <td>1</td>\n",
       "      <td>1</td>\n",
       "      <td>Security Engineer/Technical Lead</td>\n",
       "      <td>&lt;p&gt;Security Clearance Required:&amp;nbsp; Top Secr...</td>\n",
       "      <td>&lt;p&gt;SKILL SET&lt;/p&gt;\\r&lt;p&gt;&amp;nbsp;&lt;/p&gt;\\r&lt;p&gt;Network Se...</td>\n",
       "      <td>Washington</td>\n",
       "      <td>DC</td>\n",
       "      <td>US</td>\n",
       "    </tr>\n",
       "    <tr>\n",
       "      <th>1</th>\n",
       "      <td>4</td>\n",
       "      <td>1</td>\n",
       "      <td>SAP Business Analyst / WM</td>\n",
       "      <td>&lt;strong&gt;NO Corp. to Corp resumes&amp;nbsp;are bein...</td>\n",
       "      <td>&lt;p&gt;&lt;b&gt;WHAT YOU NEED: &lt;/b&gt;&lt;/p&gt;\\r&lt;p&gt;Four year co...</td>\n",
       "      <td>Charlotte</td>\n",
       "      <td>NC</td>\n",
       "      <td>US</td>\n",
       "    </tr>\n",
       "    <tr>\n",
       "      <th>2</th>\n",
       "      <td>7</td>\n",
       "      <td>1</td>\n",
       "      <td>P/T HUMAN RESOURCES ASSISTANT</td>\n",
       "      <td>&lt;b&gt;    &lt;b&gt; P/T HUMAN RESOURCES ASSISTANT&lt;/b&gt; &lt;...</td>\n",
       "      <td>Please refer to the Job Description to view th...</td>\n",
       "      <td>Winter Park</td>\n",
       "      <td>FL</td>\n",
       "      <td>US</td>\n",
       "    </tr>\n",
       "    <tr>\n",
       "      <th>3</th>\n",
       "      <td>8</td>\n",
       "      <td>1</td>\n",
       "      <td>Route Delivery Drivers</td>\n",
       "      <td>CITY BEVERAGES Come to work for the best in th...</td>\n",
       "      <td>Please refer to the Job Description to view th...</td>\n",
       "      <td>Orlando</td>\n",
       "      <td>FL</td>\n",
       "      <td>US</td>\n",
       "    </tr>\n",
       "    <tr>\n",
       "      <th>4</th>\n",
       "      <td>9</td>\n",
       "      <td>1</td>\n",
       "      <td>Housekeeping</td>\n",
       "      <td>I make  sure every part of their day is magica...</td>\n",
       "      <td>Please refer to the Job Description to view th...</td>\n",
       "      <td>Orlando</td>\n",
       "      <td>FL</td>\n",
       "      <td>US</td>\n",
       "    </tr>\n",
       "  </tbody>\n",
       "</table>\n",
       "</div>"
      ],
      "text/plain": [
       "   JobID  WindowID                             Title  \\\n",
       "0      1         1  Security Engineer/Technical Lead   \n",
       "1      4         1         SAP Business Analyst / WM   \n",
       "2      7         1     P/T HUMAN RESOURCES ASSISTANT   \n",
       "3      8         1            Route Delivery Drivers   \n",
       "4      9         1                      Housekeeping   \n",
       "\n",
       "                                         Description  \\\n",
       "0  <p>Security Clearance Required:&nbsp; Top Secr...   \n",
       "1  <strong>NO Corp. to Corp resumes&nbsp;are bein...   \n",
       "2  <b>    <b> P/T HUMAN RESOURCES ASSISTANT</b> <...   \n",
       "3  CITY BEVERAGES Come to work for the best in th...   \n",
       "4  I make  sure every part of their day is magica...   \n",
       "\n",
       "                                        Requirements         City State  \\\n",
       "0  <p>SKILL SET</p>\\r<p>&nbsp;</p>\\r<p>Network Se...   Washington    DC   \n",
       "1  <p><b>WHAT YOU NEED: </b></p>\\r<p>Four year co...    Charlotte    NC   \n",
       "2  Please refer to the Job Description to view th...  Winter Park    FL   \n",
       "3  Please refer to the Job Description to view th...      Orlando    FL   \n",
       "4  Please refer to the Job Description to view th...      Orlando    FL   \n",
       "\n",
       "  Country  \n",
       "0      US  \n",
       "1      US  \n",
       "2      US  \n",
       "3      US  \n",
       "4      US  "
      ]
     },
     "execution_count": 11,
     "metadata": {},
     "output_type": "execute_result"
    }
   ],
   "source": [
    "jobs_US.head()"
   ]
  },
  {
   "cell_type": "markdown",
   "metadata": {},
   "source": [
    "# clean Title and Description, and append both into Description column"
   ]
  },
  {
   "cell_type": "code",
   "execution_count": 35,
   "metadata": {},
   "outputs": [],
   "source": [
    "jobs_US[\"Title\"] = jobs_US[\"Title\"].fillna(\"\")\n",
    "jobs_US[\"Description\"] = jobs_US[\"Description\"].fillna(\"\")\n",
    "#jobs_US[\"Requirements\"] = jobs_US[\"Requirements\"].fillna(\"\")\n",
    "jobs_US[\"Description\"] = jobs_US[\"Title\"] + \" \"+ jobs_US[\"Description\"] #+ \" \"+ jobs_US[\"Requirements\"]\n"
   ]
  },
  {
   "cell_type": "markdown",
   "metadata": {},
   "source": [
    "# Fit and Generate TF-IDF vectors for the jobs(using Description)"
   ]
  },
  {
   "cell_type": "code",
   "execution_count": 36,
   "metadata": {},
   "outputs": [],
   "source": [
    "tf = TfidfVectorizer(analyzer='word',ngram_range=(1, 2),min_df=0, stop_words='english')\n",
    "tfidf_matrix_jobs = tf.fit_transform(jobs_US['Description'])\n",
    "#tfidf_matrix_jobs_df = pd.DataFrame(tfidf_matrix_jobs.toarray(), columns=tf.get_feature_names())"
   ]
  },
  {
   "cell_type": "markdown",
   "metadata": {},
   "source": [
    "# Nearest Neighbor search for the similar jobs"
   ]
  },
  {
   "cell_type": "code",
   "execution_count": 37,
   "metadata": {},
   "outputs": [
    {
     "data": {
      "text/html": [
       "<style>#sk-container-id-2 {color: black;background-color: white;}#sk-container-id-2 pre{padding: 0;}#sk-container-id-2 div.sk-toggleable {background-color: white;}#sk-container-id-2 label.sk-toggleable__label {cursor: pointer;display: block;width: 100%;margin-bottom: 0;padding: 0.3em;box-sizing: border-box;text-align: center;}#sk-container-id-2 label.sk-toggleable__label-arrow:before {content: \"▸\";float: left;margin-right: 0.25em;color: #696969;}#sk-container-id-2 label.sk-toggleable__label-arrow:hover:before {color: black;}#sk-container-id-2 div.sk-estimator:hover label.sk-toggleable__label-arrow:before {color: black;}#sk-container-id-2 div.sk-toggleable__content {max-height: 0;max-width: 0;overflow: hidden;text-align: left;background-color: #f0f8ff;}#sk-container-id-2 div.sk-toggleable__content pre {margin: 0.2em;color: black;border-radius: 0.25em;background-color: #f0f8ff;}#sk-container-id-2 input.sk-toggleable__control:checked~div.sk-toggleable__content {max-height: 200px;max-width: 100%;overflow: auto;}#sk-container-id-2 input.sk-toggleable__control:checked~label.sk-toggleable__label-arrow:before {content: \"▾\";}#sk-container-id-2 div.sk-estimator input.sk-toggleable__control:checked~label.sk-toggleable__label {background-color: #d4ebff;}#sk-container-id-2 div.sk-label input.sk-toggleable__control:checked~label.sk-toggleable__label {background-color: #d4ebff;}#sk-container-id-2 input.sk-hidden--visually {border: 0;clip: rect(1px 1px 1px 1px);clip: rect(1px, 1px, 1px, 1px);height: 1px;margin: -1px;overflow: hidden;padding: 0;position: absolute;width: 1px;}#sk-container-id-2 div.sk-estimator {font-family: monospace;background-color: #f0f8ff;border: 1px dotted black;border-radius: 0.25em;box-sizing: border-box;margin-bottom: 0.5em;}#sk-container-id-2 div.sk-estimator:hover {background-color: #d4ebff;}#sk-container-id-2 div.sk-parallel-item::after {content: \"\";width: 100%;border-bottom: 1px solid gray;flex-grow: 1;}#sk-container-id-2 div.sk-label:hover label.sk-toggleable__label {background-color: #d4ebff;}#sk-container-id-2 div.sk-serial::before {content: \"\";position: absolute;border-left: 1px solid gray;box-sizing: border-box;top: 0;bottom: 0;left: 50%;z-index: 0;}#sk-container-id-2 div.sk-serial {display: flex;flex-direction: column;align-items: center;background-color: white;padding-right: 0.2em;padding-left: 0.2em;position: relative;}#sk-container-id-2 div.sk-item {position: relative;z-index: 1;}#sk-container-id-2 div.sk-parallel {display: flex;align-items: stretch;justify-content: center;background-color: white;position: relative;}#sk-container-id-2 div.sk-item::before, #sk-container-id-2 div.sk-parallel-item::before {content: \"\";position: absolute;border-left: 1px solid gray;box-sizing: border-box;top: 0;bottom: 0;left: 50%;z-index: -1;}#sk-container-id-2 div.sk-parallel-item {display: flex;flex-direction: column;z-index: 1;position: relative;background-color: white;}#sk-container-id-2 div.sk-parallel-item:first-child::after {align-self: flex-end;width: 50%;}#sk-container-id-2 div.sk-parallel-item:last-child::after {align-self: flex-start;width: 50%;}#sk-container-id-2 div.sk-parallel-item:only-child::after {width: 0;}#sk-container-id-2 div.sk-dashed-wrapped {border: 1px dashed gray;margin: 0 0.4em 0.5em 0.4em;box-sizing: border-box;padding-bottom: 0.4em;background-color: white;}#sk-container-id-2 div.sk-label label {font-family: monospace;font-weight: bold;display: inline-block;line-height: 1.2em;}#sk-container-id-2 div.sk-label-container {text-align: center;}#sk-container-id-2 div.sk-container {/* jupyter's `normalize.less` sets `[hidden] { display: none; }` but bootstrap.min.css set `[hidden] { display: none !important; }` so we also need the `!important` here to be able to override the default hidden behavior on the sphinx rendered scikit-learn.org. See: https://github.com/scikit-learn/scikit-learn/issues/21755 */display: inline-block !important;position: relative;}#sk-container-id-2 div.sk-text-repr-fallback {display: none;}</style><div id=\"sk-container-id-2\" class=\"sk-top-container\"><div class=\"sk-text-repr-fallback\"><pre>NearestNeighbors(n_jobs=-1)</pre><b>In a Jupyter environment, please rerun this cell to show the HTML representation or trust the notebook. <br />On GitHub, the HTML representation is unable to render, please try loading this page with nbviewer.org.</b></div><div class=\"sk-container\" hidden><div class=\"sk-item\"><div class=\"sk-estimator sk-toggleable\"><input class=\"sk-toggleable__control sk-hidden--visually\" id=\"sk-estimator-id-2\" type=\"checkbox\" checked><label for=\"sk-estimator-id-2\" class=\"sk-toggleable__label sk-toggleable__label-arrow\">NearestNeighbors</label><div class=\"sk-toggleable__content\"><pre>NearestNeighbors(n_jobs=-1)</pre></div></div></div></div></div>"
      ],
      "text/plain": [
       "NearestNeighbors(n_jobs=-1)"
      ]
     },
     "execution_count": 37,
     "metadata": {},
     "output_type": "execute_result"
    }
   ],
   "source": [
    "from sklearn.neighbors import NearestNeighbors\n",
    "neigh_users = NearestNeighbors(n_neighbors=5, n_jobs=-1) \n",
    "neigh_users.fit(tfidf_matrix_jobs)"
   ]
  },
  {
   "cell_type": "code",
   "execution_count": 38,
   "metadata": {},
   "outputs": [
    {
     "data": {
      "text/plain": [
       "(5404, 15)"
      ]
     },
     "execution_count": 38,
     "metadata": {},
     "output_type": "execute_result"
    }
   ],
   "source": [
    "user_test = user_test[user_test[\"Country\"]==\"US\"]\n",
    "user_test.head()\n",
    "user_test.shape"
   ]
  },
  {
   "cell_type": "markdown",
   "metadata": {},
   "source": [
    "# Function to perform content based recommendation using similar job profiles"
   ]
  },
  {
   "cell_type": "code",
   "execution_count": 55,
   "metadata": {},
   "outputs": [],
   "source": [
    "def get_cbr(user_test):\n",
    "    ind = 0\n",
    "    for _,user_row in user_test.iterrows():\n",
    "        print(user_row[\"UserID\"])\n",
    "        user_applied_job_ids = list(apps_test[apps_test[\"UserID\"]==int(user_row[\"UserID\"])][\"JobID\"].unique())[:10]\n",
    "        user_profile = user_row[\"DegreeType\"] + \" \"+ user_row[\"Major\"]\n",
    "        user_jobs_text = \"\"\n",
    "        user_jobs_text = \" \".join(list(jobs_US[jobs_US[\"JobID\"].isin(user_applied_job_ids)][\"Description\"].dropna().unique()))\n",
    "        #print(user_jobs_text)\n",
    "        user_history_text = \" \".join(list(user_history_test[user_history_test[\"UserID\"]==int(user_row[\"UserID\"])][\"JobTitle\"].dropna().unique()))\n",
    "        user_profile += (\" \"+ user_history_text)\n",
    "        print(user_profile)\n",
    "        #print(user_history_text)\n",
    "        tf_idf_user = tf.transform([user_profile])\n",
    "        job_recommend_inds = neigh_users.kneighbors(tf_idf_user, return_distance=False)\n",
    "        print(list(job_recommend_inds[0]))\n",
    "        for id in list(job_recommend_inds[0]):\n",
    "            print(jobs_US.iloc[id:id+1,:][\"Title\"])\n",
    "        if ind>=5:\n",
    "            break\n",
    "        ind+=1"
   ]
  },
  {
   "cell_type": "code",
   "execution_count": 56,
   "metadata": {},
   "outputs": [
    {
     "name": "stdout",
     "output_type": "stream",
     "text": [
      "767\n",
      "Bachelor's University Studies/Business Claims Adjuster Professional Baseball Player\n",
      "[3814, 2682, 8882, 7177, 5064]\n",
      "3817    c.n.a.\n",
      "Name: Title, dtype: object\n",
      "2684    Sr Claims Adjuster-Minneapolis\n",
      "Name: Title, dtype: object\n",
      "8885    Claims Coordinator / Adjuster Trainee\n",
      "Name: Title, dtype: object\n",
      "7180    IT Professional\n",
      "Name: Title, dtype: object\n",
      "5067    A/P Professional\n",
      "Name: Title, dtype: object\n",
      "769\n",
      "Bachelor's Radio-Television Shoe Fit Specialist WGCI, Programming Intern Hip Hop Director/DJ Teller Head Cashier\n",
      "[3814, 9451, 2370, 2371, 2361]\n",
      "3817    c.n.a.\n",
      "Name: Title, dtype: object\n",
      "9454    Programming Specialist\n",
      "Name: Title, dtype: object\n",
      "2372    Teller\n",
      "Name: Title, dtype: object\n",
      "2373    Teller\n",
      "Name: Title, dtype: object\n",
      "2363    Teller\n",
      "Name: Title, dtype: object\n",
      "861\n",
      "High School General Studies Building Manager Independent Avon Rep Assistant Manager Crew Manage Office Manager Bartender\n",
      "[3814, 3543, 5932, 4422, 9560]\n",
      "3817    c.n.a.\n",
      "Name: Title, dtype: object\n",
      "3546    Office Manager\n",
      "Name: Title, dtype: object\n",
      "5935    Office Manager\n",
      "Name: Title, dtype: object\n",
      "4425    OFFICE MANAGER\n",
      "Name: Title, dtype: object\n",
      "9563    Office Manager\n",
      "Name: Title, dtype: object\n",
      "1006\n",
      "High School Not Applicable Photo Supervisor Custodian Mailroom Clerk\n",
      "[4927, 3814, 256, 305, 8430]\n",
      "4930    Mailroom Clerk\n",
      "Name: Title, dtype: object\n",
      "3817    c.n.a.\n",
      "Name: Title, dtype: object\n",
      "256    Supervisor of Instruction High School\n",
      "Name: Title, dtype: object\n",
      "305    HIGH SCHOOL ASSISTANT PRINCIPAL\n",
      "Name: Title, dtype: object\n",
      "8433    Transformational  High School Principal  Eleme...\n",
      "Name: Title, dtype: object\n",
      "1192\n",
      "Bachelor's Marketing Marketing Intern Assistant Retail Assistant Data Entry Cashier\n",
      "[3814, 2691, 772, 4493, 5774]\n",
      "3817    c.n.a.\n",
      "Name: Title, dtype: object\n",
      "2693    Data Entry/Administrative Assistant\n",
      "Name: Title, dtype: object\n",
      "772    Assistant Retail Store Manager\n",
      "Name: Title, dtype: object\n",
      "4496    E-Marketing Assistant\n",
      "Name: Title, dtype: object\n",
      "5777    H/R Assistant\n",
      "Name: Title, dtype: object\n",
      "2003\n",
      "High School  Picker/Cherry picker operator Picker/Packer Warehouse Worker\n",
      "[3814, 5958, 6274, 4435, 305]\n",
      "3817    c.n.a.\n",
      "Name: Title, dtype: object\n",
      "5961    Order Picker\n",
      "Name: Title, dtype: object\n",
      "6277    Warehouse Worker\n",
      "Name: Title, dtype: object\n",
      "4438    Warehouse Worker\n",
      "Name: Title, dtype: object\n",
      "305    HIGH SCHOOL ASSISTANT PRINCIPAL\n",
      "Name: Title, dtype: object\n"
     ]
    }
   ],
   "source": [
    "get_cbr(user_test)"
   ]
  }
 ],
 "metadata": {
  "kernelspec": {
   "display_name": "Python 3.10.7 64-bit",
   "language": "python",
   "name": "python3"
  },
  "language_info": {
   "codemirror_mode": {
    "name": "ipython",
    "version": 3
   },
   "file_extension": ".py",
   "mimetype": "text/x-python",
   "name": "python",
   "nbconvert_exporter": "python",
   "pygments_lexer": "ipython3",
   "version": "3.10.7"
  },
  "orig_nbformat": 4,
  "vscode": {
   "interpreter": {
    "hash": "6b7da442fc27bc1f60665c61daa071b12e6dc64a4775f681fedf0c867602bf76"
   }
  }
 },
 "nbformat": 4,
 "nbformat_minor": 2
}
